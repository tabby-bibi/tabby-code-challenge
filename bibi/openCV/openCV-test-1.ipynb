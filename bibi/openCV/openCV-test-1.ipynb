{
 "cells": [
  {
   "cell_type": "code",
   "execution_count": 1,
   "id": "d5e7b914-9785-445d-9e6a-e8ade2214cb9",
   "metadata": {},
   "outputs": [],
   "source": [
    "import cv2\n",
    "import numpy as np"
   ]
  },
  {
   "cell_type": "code",
   "execution_count": 7,
   "id": "398af4fa-d3ba-4af5-9585-e10300d07e31",
   "metadata": {},
   "outputs": [],
   "source": [
    "image = np.zeros((200,300), np.uint16)\n",
    "image.fill(300)"
   ]
  },
  {
   "cell_type": "code",
   "execution_count": 9,
   "id": "5c105a3b-649d-4494-a492-041d4cdca84d",
   "metadata": {},
   "outputs": [
    {
     "ename": "AttributeError",
     "evalue": "module 'cv2' has no attribute 'desrtoyAllWindows'",
     "output_type": "error",
     "traceback": [
      "\u001b[1;31m---------------------------------------------------------------------------\u001b[0m",
      "\u001b[1;31mAttributeError\u001b[0m                            Traceback (most recent call last)",
      "Cell \u001b[1;32mIn[9], line 3\u001b[0m\n\u001b[0;32m      1\u001b[0m cv2\u001b[38;5;241m.\u001b[39mimshow(\u001b[38;5;124m\"\u001b[39m\u001b[38;5;124mOpenCV Test!\u001b[39m\u001b[38;5;124m\"\u001b[39m, image)\n\u001b[0;32m      2\u001b[0m cv2\u001b[38;5;241m.\u001b[39mwaitKey(\u001b[38;5;241m0\u001b[39m)\n\u001b[1;32m----> 3\u001b[0m cv2\u001b[38;5;241m.\u001b[39mdesrtoyAllWindows()\n",
      "\u001b[1;31mAttributeError\u001b[0m: module 'cv2' has no attribute 'desrtoyAllWindows'"
     ]
    }
   ],
   "source": [
    "cv2.imshow(\"OpenCV Test!\", image)\n",
    "cv2.waitKey(0)\n",
    "cv2.desrtoyAllWindows() #cv2 종료 처리 "
   ]
  },
  {
   "cell_type": "code",
   "execution_count": null,
   "id": "5e8fd1de-1372-4839-9b60-712993e7d5bf",
   "metadata": {},
   "outputs": [],
   "source": []
  }
 ],
 "metadata": {
  "kernelspec": {
   "display_name": "Python [conda env:base] *",
   "language": "python",
   "name": "conda-base-py"
  },
  "language_info": {
   "codemirror_mode": {
    "name": "ipython",
    "version": 3
   },
   "file_extension": ".py",
   "mimetype": "text/x-python",
   "name": "python",
   "nbconvert_exporter": "python",
   "pygments_lexer": "ipython3",
   "version": "3.12.7"
  }
 },
 "nbformat": 4,
 "nbformat_minor": 5
}
